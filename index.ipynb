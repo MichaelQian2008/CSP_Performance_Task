{
 "cells": [
  {
   "cell_type": "code",
   "execution_count": 1,
   "id": "initial_id",
   "metadata": {
    "collapsed": true,
    "ExecuteTime": {
     "end_time": "2024-04-03T06:49:11.049068Z",
     "start_time": "2024-04-03T06:49:10.766348Z"
    }
   },
   "outputs": [],
   "source": [
    "import pandas as pd\n",
    "import random\n",
    "import json"
   ]
  },
  {
   "cell_type": "code",
   "execution_count": 2,
   "outputs": [],
   "source": [
    "data = pd.read_json(\"GRE_2_revised.json\")"
   ],
   "metadata": {
    "collapsed": false,
    "ExecuteTime": {
     "end_time": "2024-04-03T06:49:23.241129Z",
     "start_time": "2024-04-03T06:49:23.068861Z"
    }
   },
   "id": "7dc3253a14de7e7e"
  },
  {
   "cell_type": "code",
   "execution_count": 3,
   "outputs": [
    {
     "data": {
      "text/plain": "   wordRank     headWord                                            content  \\\n0         1    daltonism  {'word': {'wordHead': 'daltonism', 'wordId': '...   \n1         2  orthopedics  {'word': {'wordHead': 'orthopedics', 'wordId':...   \n2         3      sceptre  {'word': {'wordHead': 'sceptre', 'wordId': 'GR...   \n3         4     pericope  {'word': {'wordHead': 'pericope', 'wordId': 'G...   \n4         5       sphinx  {'word': {'wordHead': 'sphinx', 'wordId': 'GRE...   \n\n  bookId  \n0  GRE_2  \n1  GRE_2  \n2  GRE_2  \n3  GRE_2  \n4  GRE_2  ",
      "text/html": "<div>\n<style scoped>\n    .dataframe tbody tr th:only-of-type {\n        vertical-align: middle;\n    }\n\n    .dataframe tbody tr th {\n        vertical-align: top;\n    }\n\n    .dataframe thead th {\n        text-align: right;\n    }\n</style>\n<table border=\"1\" class=\"dataframe\">\n  <thead>\n    <tr style=\"text-align: right;\">\n      <th></th>\n      <th>wordRank</th>\n      <th>headWord</th>\n      <th>content</th>\n      <th>bookId</th>\n    </tr>\n  </thead>\n  <tbody>\n    <tr>\n      <th>0</th>\n      <td>1</td>\n      <td>daltonism</td>\n      <td>{'word': {'wordHead': 'daltonism', 'wordId': '...</td>\n      <td>GRE_2</td>\n    </tr>\n    <tr>\n      <th>1</th>\n      <td>2</td>\n      <td>orthopedics</td>\n      <td>{'word': {'wordHead': 'orthopedics', 'wordId':...</td>\n      <td>GRE_2</td>\n    </tr>\n    <tr>\n      <th>2</th>\n      <td>3</td>\n      <td>sceptre</td>\n      <td>{'word': {'wordHead': 'sceptre', 'wordId': 'GR...</td>\n      <td>GRE_2</td>\n    </tr>\n    <tr>\n      <th>3</th>\n      <td>4</td>\n      <td>pericope</td>\n      <td>{'word': {'wordHead': 'pericope', 'wordId': 'G...</td>\n      <td>GRE_2</td>\n    </tr>\n    <tr>\n      <th>4</th>\n      <td>5</td>\n      <td>sphinx</td>\n      <td>{'word': {'wordHead': 'sphinx', 'wordId': 'GRE...</td>\n      <td>GRE_2</td>\n    </tr>\n  </tbody>\n</table>\n</div>"
     },
     "execution_count": 3,
     "metadata": {},
     "output_type": "execute_result"
    }
   ],
   "source": [
    "data.head()"
   ],
   "metadata": {
    "collapsed": false,
    "ExecuteTime": {
     "end_time": "2024-04-03T06:49:43.012179Z",
     "start_time": "2024-04-03T06:49:42.992455Z"
    }
   },
   "id": "4c9250c432182ca8"
  },
  {
   "cell_type": "code",
   "execution_count": 11,
   "outputs": [
    {
     "ename": "KeyError",
     "evalue": "'exam'",
     "output_type": "error",
     "traceback": [
      "\u001B[0;31m---------------------------------------------------------------------------\u001B[0m",
      "\u001B[0;31mKeyError\u001B[0m                                  Traceback (most recent call last)",
      "Cell \u001B[0;32mIn[11], line 1\u001B[0m\n\u001B[0;32m----> 1\u001B[0m data\u001B[38;5;241m.\u001B[39mcontent\u001B[38;5;241m.\u001B[39miloc[\u001B[38;5;241m1\u001B[39m][\u001B[38;5;124m\"\u001B[39m\u001B[38;5;124mword\u001B[39m\u001B[38;5;124m\"\u001B[39m][\u001B[38;5;124m\"\u001B[39m\u001B[38;5;124mcontent\u001B[39m\u001B[38;5;124m\"\u001B[39m][\u001B[38;5;124m\"\u001B[39m\u001B[38;5;124mexam\u001B[39m\u001B[38;5;124m\"\u001B[39m]\n",
      "\u001B[0;31mKeyError\u001B[0m: 'exam'"
     ]
    }
   ],
   "source": [
    "data.content.iloc[1][\"word\"][\"content\"][\"exam\"]"
   ],
   "metadata": {
    "collapsed": false,
    "ExecuteTime": {
     "end_time": "2024-04-03T16:36:05.631770Z",
     "start_time": "2024-04-03T16:36:05.586602Z"
    }
   },
   "id": "4f78499e654c6637"
  },
  {
   "cell_type": "code",
   "execution_count": null,
   "outputs": [],
   "source": [],
   "metadata": {
    "collapsed": false
   },
   "id": "56aeda95dd905f85"
  }
 ],
 "metadata": {
  "kernelspec": {
   "display_name": "Python 3",
   "language": "python",
   "name": "python3"
  },
  "language_info": {
   "codemirror_mode": {
    "name": "ipython",
    "version": 2
   },
   "file_extension": ".py",
   "mimetype": "text/x-python",
   "name": "python",
   "nbconvert_exporter": "python",
   "pygments_lexer": "ipython2",
   "version": "2.7.6"
  }
 },
 "nbformat": 4,
 "nbformat_minor": 5
}
